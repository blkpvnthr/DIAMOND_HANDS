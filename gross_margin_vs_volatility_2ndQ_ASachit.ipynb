{
 "cells": [
  {
   "cell_type": "markdown",
   "id": "fd701cbd",
   "metadata": {},
   "source": [
    "gross_margin_vs_volatility_2ndQ_ASachit"
   ]
  },
  {
   "cell_type": "code",
   "execution_count": null,
   "id": "43a3808b",
   "metadata": {},
   "outputs": [],
   "source": [
    "import pandas as pd\n",
    "import numpy as np\n",
    "import matplotlib.pyplot as plt\n",
    "import seaborn as sns\n",
    "import yfinance as yf\n",
    "from tqdm import tqdm\n",
    "import os"
   ]
  },
  {
   "cell_type": "code",
   "execution_count": null,
   "id": "3cd92c46",
   "metadata": {},
   "outputs": [],
   "source": [
    "sns.set_style(\"darkgrid\")\n",
    "\n",
    "# File paths\n",
    "gross_margin_cache_path = \"data/gross_margins_cache.csv\"\n",
    "price_data_path = \"data/final_updated_historical_stock_prices.csv\"\n",
    "ticker_data_path = \"data/all-defense-stocks.csv\""
   ]
  },
  {
   "cell_type": "code",
   "execution_count": null,
   "id": "cebc736a",
   "metadata": {},
   "outputs": [],
   "source": [
    "# Load Tickers\n",
    "gross_df = pd.read_csv(ticker_data_path)\n",
    "tickers = gross_df['Symbol'].dropna().unique().tolist()"
   ]
  },
  {
   "cell_type": "markdown",
   "id": "65dd29a1",
   "metadata": {},
   "source": [
    "# Step 1: Fetch Gross Margin (from cache or Yahoo Finance)"
   ]
  },
  {
   "cell_type": "code",
   "execution_count": null,
   "id": "8b7db940",
   "metadata": {},
   "outputs": [],
   "source": [
    "# Step 1: Fetch Gross Margin (from cache or Yahoo Finance)\n",
    "if os.path.exists(gross_margin_cache_path):\n",
    "    gross_margin_df = pd.read_csv(gross_margin_cache_path)\n",
    "    print(\"Loaded Gross Margin data from cache.\")\n",
    "else:\n",
    "    print(\"Fetching Gross Margin data from Yahoo Finance...\")\n",
    "    gross_margin_data = {'Ticker': [], 'Gross Margin': []}\n",
    "\n",
    "    for ticker in tqdm(tickers):\n",
    "        try:\n",
    "            stock = yf.Ticker(ticker)\n",
    "            info = stock.info\n",
    "            gm = info.get('grossMargins', None)\n",
    "            gross_margin_data['Ticker'].append(ticker)\n",
    "            gross_margin_data['Gross Margin'].append(gm)\n",
    "        except Exception as e:\n",
    "            print(f\"Error for {ticker}: {e}\")\n",
    "            gross_margin_data['Ticker'].append(ticker)\n",
    "            gross_margin_data['Gross Margin'].append(None)\n",
    "\n",
    "    gross_margin_df = pd.DataFrame(gross_margin_data).dropna()\n",
    "    gross_margin_df.to_csv(gross_margin_cache_path, index=False)\n",
    "    print(f\"Saved Gross Margin data to {gross_margin_cache_path}\")"
   ]
  },
  {
   "cell_type": "markdown",
   "id": "2fddbc16",
   "metadata": {},
   "source": [
    "# Step 2: Load price data and compute volatility"
   ]
  },
  {
   "cell_type": "code",
   "execution_count": null,
   "id": "9d32db91",
   "metadata": {},
   "outputs": [],
   "source": [
    "# Step 2: Load price data and compute volatility\n",
    "price_df = pd.read_csv(price_data_path, index_col=0, parse_dates=True)\n",
    "returns = price_df.pct_change()\n",
    "volatility = returns.std()\n",
    "\n",
    "vol_df = pd.DataFrame({'Ticker': volatility.index, 'Volatility': volatility.values})\n"
   ]
  },
  {
   "cell_type": "markdown",
   "id": "6a0773aa",
   "metadata": {},
   "source": [
    "# Step 3: Merge gross margin with volatility"
   ]
  },
  {
   "cell_type": "code",
   "execution_count": null,
   "id": "245699a7",
   "metadata": {},
   "outputs": [],
   "source": [
    "# Step 3: Merge gross margin with volatility\n",
    "analysis_df = pd.merge(gross_margin_df, vol_df, on='Ticker')\n",
    "analysis_df = analysis_df.dropna()"
   ]
  },
  {
   "cell_type": "markdown",
   "id": "060d417f",
   "metadata": {},
   "source": [
    "# Step 4: Scatter Plot - Gross Margin vs Volatility"
   ]
  },
  {
   "cell_type": "code",
   "execution_count": null,
   "id": "351f1303",
   "metadata": {},
   "outputs": [],
   "source": [
    "# Step 4: Scatter Plot - Gross Margin vs Volatility\n",
    "plt.figure(figsize=(10, 6))\n",
    "sns.scatterplot(data=analysis_df, x='Gross Margin', y='Volatility', hue='Ticker', palette='tab10')\n",
    "plt.title(\"Gross Margin vs. Stock Volatility\")\n",
    "plt.xlabel(\"Gross Margin\")\n",
    "plt.ylabel(\"Volatility (Std. Dev of Returns)\")\n",
    "plt.legend(bbox_to_anchor=(1.05, 1), loc='upper left', fontsize='x-small')\n",
    "plt.tight_layout()\n",
    "plt.savefig(\"plots/gross_margin_vs_volatility.png\", dpi=300)\n",
    "plt.show()\n"
   ]
  },
  {
   "cell_type": "markdown",
   "id": "ca0c12f0",
   "metadata": {},
   "source": [
    "# Step 5: Box Plot - Margin Tier vs Volatility"
   ]
  },
  {
   "cell_type": "code",
   "execution_count": null,
   "id": "799f1928",
   "metadata": {},
   "outputs": [],
   "source": [
    "# Step 5: Box Plot - Margin Tier vs Volatility\n",
    "bins = [0, 0.25, 0.5, 0.75, 1]\n",
    "labels = ['Low', 'Medium', 'High', 'Very High']\n",
    "analysis_df['Margin Tier'] = pd.cut(analysis_df['Gross Margin'], bins=bins, labels=labels)\n"
   ]
  },
  {
   "cell_type": "code",
   "execution_count": null,
   "id": "1b79a587",
   "metadata": {},
   "outputs": [],
   "source": [
    "plt.figure(figsize=(8, 6))\n",
    "sns.boxplot(data=analysis_df, x='Margin Tier', y='Volatility')\n",
    "plt.title(\"Volatility by Gross Margin Tier\")\n",
    "plt.xlabel(\"Gross Margin Tier\")\n",
    "plt.ylabel(\"Volatility\")\n",
    "plt.tight_layout()\n",
    "plt.savefig(\"plots/volatility_by_margin_tier.png\", dpi=300)\n",
    "plt.show()\n"
   ]
  }
 ],
 "metadata": {
  "kernelspec": {
   "display_name": "venv",
   "language": "python",
   "name": "python3"
  },
  "language_info": {
   "name": "python",
   "version": "3.13.1"
  }
 },
 "nbformat": 4,
 "nbformat_minor": 5
}
